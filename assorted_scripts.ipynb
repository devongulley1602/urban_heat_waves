{
 "cells": [
  {
   "cell_type": "markdown",
   "id": "medium-minister",
   "metadata": {},
   "source": [
    "Todo: \n",
    " - How the urban effect can be seen through climatology \n",
    " - Impact of TEB at particular points such as station in and outside city centre, compute diffs from station data w/wo TEB\n",
    " - Do that for multiple stations and observe the effects\n",
    " - seasonal averages\n",
    " - Verify against station data\n",
    " - Investigate urban fraction field\n",
    " - Max and mim fields\n",
    " - \n",
    "\n",
    "Over the next two weeks\n",
    "   Spatial seasonally averaged maps of T, TMAX, and TMIN\n",
    "   Check out figure 4 and 16 of the report\n",
    "   \n",
    "Definition of the UHI\n",
    "\n",
    "Urban fraction vs temperature graph, dots for station \n",
    "/runoff/winger/Output/St_Laurent/StLaurent_1km_SL2.5_ERA5_advHU/Samples/StLaurent_1km_SL2.5_ERA5_advHU_step0\n",
    "Usually, there should be a directory ending on *_step0 in the Samples directory. The field 2V, level 21 of the pm-file in that directory contains the urban fraction. You can use xrec to observe it as long as you've ssh'd using -YC\n",
    " \n"
   ]
  },
  {
   "cell_type": "markdown",
   "id": "4e5daa61-a83e-44cf-818f-6c019b8da63c",
   "metadata": {},
   "source": [
    "# <b> Analysis Scripts for Montréal Urban Heat Waves </b>\n",
    "\n",
    "The purpose of this file is to keep a record of scripts used to analyse CRCM6/GEM5 model output for the analysis of the urban heat island effect on historical heat waves. It includes the setup, analysis of observation and model output, and the code for plotting map data for the project."
   ]
  },
  {
   "cell_type": "markdown",
   "id": "d63a2c77-fbbe-4237-8af6-4c9a0aecf58f",
   "metadata": {},
   "source": [
    "# Table of Contents\n",
    "1. <a href=\"#setup\">Setup</a>\n",
    "    - <a href=\"11-imports\">1.1 Imports and Libraries</a>\n",
    "    - <a href=\"#12-functions\">1.2 Functions</a>\n",
    "    - <a href=\"#13-datasets\">1.2 Datasets</a>\n",
    "2. <a href=\"#station-observations-and-model-output-data-visualisation\">Station Observations and Model Output Data Visualisation</a>\n",
    "    - <a href=\"#21-station-observations\">2.1 Station Observations</a>\n",
    "    - <a href=\"#22-comparison-of-stations-to-simulation-output\">2.2 Comparison of Stations to Simulation Output</a>\n",
    "    - <a href=\"#23-formatting-model-output\">2.3 Formatting Model Output</a>\n",
    "\n",
    "---"
   ]
  },
  {
   "cell_type": "markdown",
   "id": "b4fe400f-3941-4cbb-85b5-42aadaaa56d5",
   "metadata": {},
   "source": [
    "# 1. Setup\n",
    "Common tools used throughout various scripts in the collection, analysis, and display of data throughout the project."
   ]
  },
  {
   "cell_type": "markdown",
   "id": "85106205-09be-4647-98ee-6faad7b63c4a",
   "metadata": {},
   "source": [
    "## <a id=\"11-imports\"></a> 1.1 Imports"
   ]
  },
  {
   "cell_type": "code",
   "execution_count": 1,
   "id": "b2f94748-07d4-4dc8-86ad-ae326fd07d9b",
   "metadata": {},
   "outputs": [],
   "source": [
    "# !jupyter nbextension enable --py widgetsnbextension\n",
    "import numpy as np \n",
    "import xarray as xr\n",
    "import matplotlib.pyplot as plt\n",
    "import pandas as pd\n",
    "from glob import glob\n",
    "import cartopy.crs as ccrs\n",
    "import cartopy.feature as cfeature\n",
    "import ipywidgets as widgets\n",
    "from IPython.display import display\n",
    "from ipywidgets import interact"
   ]
  },
  {
   "cell_type": "markdown",
   "id": "f676e5ef-9541-4c7a-933c-e3966602ffbd",
   "metadata": {},
   "source": [
    "## <a id=\"12-functions\"></a> 1.2 Functions\n",
    "Custom statistical and numerical techniques usage and reference. "
   ]
  },
  {
   "cell_type": "code",
   "execution_count": 2,
   "id": "4a04fac7-4d7a-451b-a7a6-835efaae02e6",
   "metadata": {},
   "outputs": [],
   "source": [
    "#For projections of all map data used here\n",
    "rotated_pole = ccrs.RotatedPole(pole_longitude=np.float32(106.425), pole_latitude=np.float32(44.5))"
   ]
  },
  {
   "cell_type": "code",
   "execution_count": 3,
   "id": "unlimited-china",
   "metadata": {},
   "outputs": [],
   "source": [
    "class Station:\n",
    "    \"\"\"\n",
    "    A class holding key information about an instance of a particular weather station.\n",
    "\n",
    "    Attributes\n",
    "    ----------\n",
    "    lattitude, longitude : float\n",
    "        The real-life position of the weather station.\n",
    "    rotated_lat, rotated_lon : float\n",
    "        The rotated projection of the station's coordinates.\n",
    "\n",
    "    Functions\n",
    "    ----------\n",
    "    get_time_series : array_like\n",
    "        The time series of the field at the station's location\n",
    "    \"\"\"\n",
    "    \n",
    "    name = \"\"\n",
    "    lattitude = 0\n",
    "    longitude = 0\n",
    "    rotated_lat = 0\n",
    "    rotated_lon = 0\n",
    "    \n",
    "    \n",
    "    def __init__(self,lat,lon):\n",
    "        self.lattitude = lat\n",
    "        self.longitude = lon\n",
    "        self.rotated_lon, self.rotated_lat = rotated_pole.transform_point(real_lon, real_lat, ccrs.PlateCarree())\n",
    "        \n",
    "    \n",
    "    def get_time_series(self,field):\n",
    "        \"\"\"\n",
    "        Retrieves the time series of the field at the latitude and longitude of the station. \n",
    "        \n",
    "        Parameters\n",
    "        ----------\n",
    "        field : array_like\n",
    "            Minimum, maximum, or average temperature, or humidity, spatial data in time.\n",
    "        \n",
    "        Returns\n",
    "        ----------\n",
    "        array_like\n",
    "            Time series of the field at the station's location\n",
    "        \n",
    "        \"\"\"\n",
    "        \n",
    "        return field.interp(rlon=self.rotated_lon, rlat=self.rotated_lat) \n",
    "    \n",
    "        "
   ]
  },
  {
   "cell_type": "code",
   "execution_count": 4,
   "id": "65b9ff7c-ed97-4cf7-bad9-f88b99c0ad45",
   "metadata": {},
   "outputs": [],
   "source": [
    "def seasonalMeans(dataset):\n",
    "    \"\"\"\n",
    "    Calculates time average of a field for each season.\n",
    "\n",
    "    Parameters\n",
    "    ----------\n",
    "    dataset : xarray.DataSet()\n",
    "        The time series of the temperature of humidity field.\n",
    "\n",
    "    Returns\n",
    "    ----------\n",
    "    xarray.DataSet()\n",
    "        The seasonal means of the field.\n",
    "    \"\"\"\n",
    "\n",
    "    return dataset.groupby('time.season').mean('time')"
   ]
  },
  {
   "cell_type": "markdown",
   "id": "c52a319d-f12b-4200-9fea-28bdf3aa08f0",
   "metadata": {},
   "source": [
    "## <a id=\"13-datasets\"></a> 1.3 Datasets"
   ]
  },
  {
   "cell_type": "code",
   "execution_count": null,
   "id": "d576a60d-26e5-491e-ba9d-76fa3560ca5b",
   "metadata": {},
   "outputs": [],
   "source": [
    "paths_ERA5_noTEB = glob('/runoff/gulley/St_Laurent/StLaurent_1km_SL2.5_ERA5_advHU/*tas.nc')\n",
    "tas_ERA5_noTEB = xr.open_mfdataset(paths_ERA5_noTEB)\n",
    "tas_ERA5_noTEB"
   ]
  },
  {
   "cell_type": "code",
   "execution_count": null,
   "id": "407c9fd6-79de-4007-ba34-3680e688ed17",
   "metadata": {},
   "outputs": [],
   "source": [
    "paths_ERA5_TEB = glob('/runoff/gulley/St_Laurent/StLaurent_1km_SL2.5_ERA5_advHU_TEB/*tas.nc')\n",
    "tas_ERA5_TEB = xr.open_mfdataset(paths_ERA5_TEB)\n",
    "tas_ERA5_TEB"
   ]
  },
  {
   "cell_type": "code",
   "execution_count": null,
   "id": "together-protection",
   "metadata": {},
   "outputs": [],
   "source": [
    "rlat = tas_ERA5_noTEB['rlat'].values\n",
    "rlon = tas_ERA5_noTEB['rlon'].values"
   ]
  },
  {
   "cell_type": "code",
   "execution_count": null,
   "id": "express-palestine",
   "metadata": {},
   "outputs": [],
   "source": [
    "#Dictionary to hold each field for easier access in later subroutines\n",
    "fields = {\n",
    "    \"tas_ERA5_TEB\" : tas_ERA5_TEB,\n",
    "    \"tas_ERA5_noTEB\" : tas_ERA5_noTEB\n",
    "}\n",
    "\n",
    "units = {\n",
    "    \"tas_ERA5_TEB\" : \"K\",\n",
    "    \"tas_ERA5_noTEB\" : \"K\"\n",
    "}\n",
    "\n",
    "variables = {\n",
    "    \"tas_ERA5_TEB\" : \"tas\",\n",
    "    \"tas_ERA5_noTEB\" : \"tas\"\n",
    "}"
   ]
  },
  {
   "cell_type": "markdown",
   "id": "inappropriate-gossip",
   "metadata": {},
   "source": [
    "Importing the urban fraction static field"
   ]
  },
  {
   "cell_type": "markdown",
   "id": "def459cb-d60c-45cd-9044-9c23debd4952",
   "metadata": {},
   "source": [
    "# 2. Station Observations and Model Output Data Visualisation\n",
    "<!-- In this section:\n",
    "- <a href=\"#21-station-observations\">2.1 Station Observations</a>\n",
    "- <a href=\"#22-comparison-of-stations-to-simulation-output\">2.2 Comparison of Stations to Simulation Output</a>\n",
    "- <a href=\"#23-formatting-model-output\">2.3 Formatting Model Output</a> -->"
   ]
  },
  {
   "cell_type": "markdown",
   "id": "38edd0d3-eab1-45fc-bd47-00f97d41e1ea",
   "metadata": {},
   "source": [
    "## <a id=\"21-station-observations\"></a>2.1 Station Observations\n",
    "Multiyear monthly means to do mean annual cycles, annual means and seasonal means of temperature using station observations"
   ]
  },
  {
   "cell_type": "code",
   "execution_count": null,
   "id": "0c4416dc-28e9-47c1-8e2f-dd83b013fcc4",
   "metadata": {},
   "outputs": [],
   "source": []
  },
  {
   "cell_type": "markdown",
   "id": "e2b77967-672a-4152-b9d0-8174c66187e5",
   "metadata": {},
   "source": [
    "## <a id=\"22-comparison-of-stations-to-simulation-output\"></a>2.2 Comparison of Stations to Simulation Output\n",
    "Select the closest grid cells of the simulations at 1km with and without TEB from few weather stations and compute multiyear monthly means to do mean annual cycles, annual means and seasonal means of temperature."
   ]
  },
  {
   "cell_type": "markdown",
   "id": "46724a0b-dae1-43fb-b761-13720a6355ed",
   "metadata": {},
   "source": [
    "### McTavish\n",
    "\n",
    "Latitude:\n",
    "45°30'17.070\" N\n",
    "Longitude:\n",
    "73°34'45.000\" W\n",
    "Elevation:\n",
    "72.80 m\n",
    "Climate ID:\n",
    "7024745\n",
    "WMO ID:\n",
    "71612\n",
    "TC ID:\n",
    "WTA\n",
    "\n",
    "\n",
    "### Mirabel\n",
    "\n",
    "Latitude:\n",
    "45°40'00.000\" N\n",
    "Longitude:\n",
    "74°02'00.000\" W\n",
    "Elevation:\n",
    "82.60 m\n",
    "Climate ID:\n",
    "7035290\n",
    "WMO ID:\n",
    "TC ID:\n",
    "YMX\n",
    "\n",
    "\n",
    "### La Prairie\n",
    "\n",
    "Latitude:\n",
    "45°23'00.000\" N\n",
    "Longitude:\n",
    "73°26'00.000\" W\n",
    "Elevation:\n",
    "30.00 m\n",
    "Climate ID:\n",
    "7024100\n",
    "WMO ID:\n",
    "TC ID:\n",
    "\n",
    "### Saint-Hubert \n",
    "\n",
    "Latitude:\n",
    "45°31'00.000\" N\n",
    "Longitude:\n",
    "73°25'00.000\" W\n",
    "Elevation:\n",
    "27.40 m\n",
    "Climate ID:\n",
    "7027322\n",
    "WMO ID:\n",
    "71371\n",
    "TC ID:\n",
    "YHU\n",
    "\n",
    "### Mascouche\n",
    "\n",
    "Latitude:\n",
    "45°45'00.000\" N\n",
    "Longitude:\n",
    "73°36'00.000\" W\n",
    "Elevation:\n",
    "15.20 m\n",
    "Climate ID:\n",
    "7014629\n",
    "WMO ID:\n",
    "TC ID:\n"
   ]
  },
  {
   "cell_type": "code",
   "execution_count": 23,
   "id": "every-bookmark",
   "metadata": {},
   "outputs": [],
   "source": [
    "mctavish = Station(45.504742,-73.579167)\n",
    "mirabel = Station(45.666667,-74.033333)\n",
    "la_prairie = Station(45.383333,-74.433333)\n",
    "saint_hubert = Station(45.516667,-74.416667)\n",
    "mascouche = Station(45.75,-74.6)\n",
    "\n",
    "stations = {\n",
    "    \"McTavish\" : mctavish,\n",
    "    \"Mirabel\" : mirabel,\n",
    "    \"La Prairie\" : la_prairie,\n",
    "    \"Saint-Hubert\" : saint_hubert,\n",
    "    \"Mascouche\" : mascouche\n",
    "}"
   ]
  },
  {
   "cell_type": "code",
   "execution_count": null,
   "id": "quick-former",
   "metadata": {},
   "outputs": [],
   "source": [
    "#Plotting the time series of each station for the TEB and noTEB simulation output\n",
    "\n",
    "#The field to plot (such as tas)\n",
    "for station_name in stations:\n",
    "    field_name_noTEB = \"tas_ERA5_noTEB\" #change later\n",
    "    field_name_TEB = \"tas_ERA5_TEB\"     #change later\n",
    "    \n",
    "    field_TEB = fields[field_name_TEB]\n",
    "    field_noTEB = fields[field_name_noTEB]\n",
    "    variable_name = variables[field_name_noTEB] #Should be comparing only the same fields\n",
    "    \n",
    "    station = stations[station_name]\n",
    "    times =  field_TEB['time'].squeeze()\n",
    "    series_TEB = station.get_time_series(field_TEB)[variable_name]\n",
    "    series_noTEB = station.get_time_series(field_noTEB)[variable_name]\n",
    "    \n",
    "    fig, axes = plt.subplots(figsize=(12, 6))\n",
    "    plt.plot(times,series_TEB,label = field_name_TEB)\n",
    "    plt.plot(times, series_noTEB, label = field_name_noTEB)\n",
    "    plt.xlabel('Time')\n",
    "    plt.ylabel(f\"variable_name ({units[field_name_noTEB]})\")\n",
    "    plt.legend()\n",
    "    plt.title(f'{station_name}')\n",
    "    plt.grid(True)\n",
    "    plt.show()\n",
    "    "
   ]
  },
  {
   "cell_type": "markdown",
   "id": "d3501162-30c5-4056-b46e-92ce356c546e",
   "metadata": {},
   "source": [
    "## <a id=\"23-formatting-model-output\"></a>2.3 Formatting Model Output\n",
    "Maps with python of seasonal means, and compute and plot differences between two simulations (with and without TEB)\n",
    "### 2.3.1 Raw Instantaneous Geospatial Output\n",
    "Below visualises the output of the simulation, the field evolution in time over the entire domain."
   ]
  },
  {
   "cell_type": "code",
   "execution_count": 97,
   "id": "b839d851-3cd4-464a-9f02-2a0e4ba765a8",
   "metadata": {},
   "outputs": [],
   "source": [
    "ds =  #contains the dataset to be displayed from the code for the interactive widget that follows"
   ]
  },
  {
   "cell_type": "code",
   "execution_count": null,
   "id": "3d6e07e9-59b3-4e7c-8eda-8534ed8b74e3",
   "metadata": {},
   "outputs": [],
   "source": [
    "#For plotting and displaying model output contained in ds\n",
    "def plot_temperature(time_index):\n",
    "    \"\"\"\n",
    "    Plots the temperature field in the Montréal region of interest at a given time index of the ds xarray.Dataset()\n",
    "    \n",
    "    Parameters\n",
    "    -----------\n",
    "    time_index : int\n",
    "        Index corresponding to some date within the dataset\n",
    "    \"\"\"\n",
    "#     min_temp = 223.15\n",
    "#     max_temp = 323.15\n",
    "    min_temp = -10\n",
    "    max_temp = 10\n",
    "    \n",
    "    plt.figure(figsize=(15, 9))\n",
    "    data = ds['tas'].isel(time=time_index).squeeze()\n",
    "    ax = plt.subplot(1, 1, 1, projection=rotated_pole)\n",
    "    ax.add_feature(cfeature.BORDERS,edgecolor='grey')\n",
    "    ax.add_feature(cfeature.LAKES, edgecolor='grey', facecolor='none')\n",
    "    ax.add_feature(cfeature.RIVERS, edgecolor='grey', facecolor='none')\n",
    "    ax.add_feature(cfeature.COASTLINE,edgecolor='grey')\n",
    "    mesh = ax.pcolormesh(ds['rlon'], ds['rlat'], data, transform=rotated_pole, cmap='coolwarm',vmin=min_temp,vmax=max_temp)\n",
    "    plt.colorbar(mesh, orientation='vertical', label='Temperature (K)')\n",
    "    title = ds.indexes['time'][time_index]\n",
    "    plt.title(f'{title}')\n",
    "    plt.show()\n",
    "\n",
    "# Play widget\n",
    "play = widgets.Play(\n",
    "    value=0,\n",
    "    min=0,\n",
    "    max=ds.sizes['time'] - 1,\n",
    "    step=10,\n",
    "    interval=100,  # Milliseconds between updates\n",
    "    description=\"\",\n",
    "    disabled=False\n",
    ")\n",
    "\n",
    "# Slider linked to the play widget\n",
    "slider = widgets.IntSlider(\n",
    "    value=0,\n",
    "    min=0,\n",
    "    max=ds.sizes['time'] - 1,\n",
    "    step=10,\n",
    "    description = \"\",\n",
    "    layout=widgets.Layout(width='1000px')\n",
    ")\n",
    "\n",
    "# Link the play widget and the slider\n",
    "widgets.jslink((play, 'value'), (slider, 'value'))\n",
    "\n",
    "#Displaying the map with slider and play widget\n",
    "display(play)\n",
    "time_slider = interact(\n",
    "    plot_temperature,\n",
    "    time_index=slider,\n",
    ")\n",
    "\n"
   ]
  },
  {
   "cell_type": "code",
   "execution_count": null,
   "id": "0f147eb6-c654-42a6-9f30-e58b20dd22e0",
   "metadata": {},
   "outputs": [],
   "source": [
    "seasonal_means = seasonalMeans(ds)\n",
    "\n",
    "#December January Feb, March April May, June July August, September October November\n",
    "seasons = ['DJF', 'MAM', 'JJA', 'SON']  \n",
    "fig, axes = plt.subplots(2, 2, figsize=(12, 10))\n",
    "\n",
    "for ax, season in zip(axes.flat, seasons):\n",
    "    data = seasonal_means['tas'].sel(season=season)\n",
    "    mesh = ax.pcolormesh(seasonal_means['rlon'], seasonal_means['rlat'], data, transform=rotated_pole, cmap='coolwarm',vmin=223.15,vmax=323.15)\n",
    "    plt.colorbar(mesh, orientation='vertical', label='Temperature (K)')\n",
    "    ax.set_title(f'{season} Average Temperature')\n",
    "\n",
    "plt.tight_layout()\n",
    "plt.show()"
   ]
  },
  {
   "cell_type": "markdown",
   "id": "numeric-prime",
   "metadata": {},
   "source": [
    "### 2.3.2 Raw Difference Field\n",
    "The difference field between the TEB and non-TEB simulation is recorded below. It can be displayed by setting diff to the ds variable in 2.3.1 for its raw evolution in time. The spatially averaged result of this is created below."
   ]
  },
  {
   "cell_type": "code",
   "execution_count": null,
   "id": "foreign-nutrition",
   "metadata": {},
   "outputs": [],
   "source": [
    "diff = (tas_ERA5_TEB['tas'] - tas_ERA5_noTEB['tas']).expand_dims(lev=[1.5]).to_dataset(name='tas')\n",
    "diff"
   ]
  },
  {
   "cell_type": "code",
   "execution_count": 8,
   "id": "5ecefdd5-ae41-495f-a4d1-82323e7e319f",
   "metadata": {},
   "outputs": [],
   "source": [
    "spatial_avg_diffs = diff.mean(dim=['rlat', 'rlon'])\n",
    "spatial_avg_diff_temps = spatial_avg_diffs['tas'].squeeze()"
   ]
  },
  {
   "cell_type": "code",
   "execution_count": 69,
   "id": "cooked-bundle",
   "metadata": {},
   "outputs": [
    {
     "data": {
      "image/png": "[encoded data removed]",
      "text/plain": [
       "<Figure size 864x432 with 1 Axes>"
      ]
     },
     "metadata": {
      "needs_background": "light"
     },
     "output_type": "display_data"
    }
   ],
   "source": [
    "plt.figure(figsize=(12, 6))\n",
    "plt.plot(spatial_avg_diffs['time'], spatial_avg_diff_temps, label='Spatial Average of Temperature Difference')\n",
    "plt.xlabel('Time')\n",
    "plt.ylabel('Temperature Difference (K)')\n",
    "plt.title('Temporal Evolution of Spatially Averaged Temperature Difference')\n",
    "plt.legend()\n",
    "plt.grid(True)\n",
    "plt.show()"
   ]
  },
  {
   "cell_type": "markdown",
   "id": "confirmed-nudist",
   "metadata": {},
   "source": [
    "A fourier analysis of the differe in time could offer some insight into the scales in which the temperature variations collect on."
   ]
  },
  {
   "cell_type": "code",
   "execution_count": null,
   "id": "remarkable-republic",
   "metadata": {},
   "outputs": [],
   "source": [
    "fft_spatial_avg_diff_temps = np.fft.fft(spatial_avg_diff_temps)\n",
    "fft_freqs_spatial_avg_diff_temps = np.fft.fftfreq(spatial_avg_diff_temps.size, d=1/24)"
   ]
  },
  {
   "cell_type": "code",
   "execution_count": 92,
   "id": "stretch-concert",
   "metadata": {},
   "outputs": [
    {
     "data": {
      "image/png": "[encoded data removed]",
      "text/plain": [
       "<Figure size 720x432 with 1 Axes>"
      ]
     },
     "metadata": {
      "needs_background": "light"
     },
     "output_type": "display_data"
    }
   ],
   "source": [
    "fft_result = fft_spatial_avg_diff_temps\n",
    "fft_freqs = fft_freqs_spatial_avg_diff_temps\n",
    "\n",
    "plt.figure(figsize=(10, 6))\n",
    "plt.plot(fft_freqs, np.abs(fft_result), label='Magnitude')\n",
    "plt.xlabel('Frequency (1/time)')\n",
    "plt.ylabel('Magnitude')\n",
    "plt.title('FFT of Spatially Averaged Temperature Differences')\n",
    "plt.xlim(0, max(fft_freqs))\n",
    "# plt.xlim(0.99,1.01)\n",
    "plt.ylim(0,5000)\n",
    "plt.legend()\n",
    "plt.show()"
   ]
  },
  {
   "cell_type": "code",
   "execution_count": null,
   "id": "younger-saturn",
   "metadata": {},
   "outputs": [],
   "source": [
    "time_avg_diffs = diff.mean(dim='time')\n",
    "time_avg_diffs"
   ]
  },
  {
   "cell_type": "code",
   "execution_count": null,
   "id": "headed-hacker",
   "metadata": {},
   "outputs": [],
   "source": [
    "data = time_avg_diffs['tas'].squeeze()\n",
    "plt.figure(figsize=(10, 6))\n",
    "mesh = plt.pcolormesh(rlon, rlat, data, cmap='coolwarm', shading='auto', vmin = -2.5, vmax = 2.5)\n",
    "mesh = ax.pcolormesh(ds['rlon'], ds['rlat'], data, transform=rotated_pole, cmap='coolwarm',vmin=min_temp,vmax=max_temp)\n",
    "plt.colorbar(mesh,label='Average Temperature Difference (K)')\n",
    "plt.title('Time-Averaged Temperature Differences')\n",
    "plt.xlabel('Longitude')\n",
    "plt.ylabel('Latitude')\n",
    "plt.show()"
   ]
  },
  {
   "cell_type": "markdown",
   "id": "dedicated-standard",
   "metadata": {},
   "source": [
    "The mean may not offer as much insight as would spatial variance of the diff field. "
   ]
  },
  {
   "cell_type": "code",
   "execution_count": 11,
   "id": "greatest-feedback",
   "metadata": {},
   "outputs": [],
   "source": [
    "time_avg_diff_stdev = diff.std(dim='time')"
   ]
  },
  {
   "cell_type": "code",
   "execution_count": null,
   "id": "effective-carol",
   "metadata": {},
   "outputs": [],
   "source": []
  }
 ],
 "metadata": {
  "kernelspec": {
   "display_name": "Python 3",
   "language": "python",
   "name": "python3"
  },
  "language_info": {
   "codemirror_mode": {
    "name": "ipython",
    "version": 3
   },
   "file_extension": ".py",
   "mimetype": "text/x-python",
   "name": "python",
   "nbconvert_exporter": "python",
   "pygments_lexer": "ipython3",
   "version": "3.8.6"
  }
 },
 "nbformat": 4,
 "nbformat_minor": 5
}
