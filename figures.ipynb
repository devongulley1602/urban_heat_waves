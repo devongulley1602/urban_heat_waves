{
 "cells": [
  {
   "cell_type": "code",
   "execution_count": 1,
   "id": "0a1d74a3-d9aa-4f38-a96d-a9dd8415275c",
   "metadata": {},
   "outputs": [],
   "source": [
    "# %matplotlib tk"
   ]
  },
  {
   "cell_type": "code",
   "execution_count": 2,
   "id": "9cbc2731-ce75-48e6-ba0c-7a559840c864",
   "metadata": {},
   "outputs": [],
   "source": [
    "# Imports\n",
    "import xarray as xr\n",
    "import numpy as np\n",
    "import pandas as pd\n",
    "import matplotlib.pyplot as plt\n",
    "import numpy as np\n",
    "import cartopy.crs as ccrs\n",
    "import cartopy.feature as cfeature\n",
    "import folium\n",
    "import geopandas as gpd\n",
    "from shapely.geometry import Point\n",
    "from shapely import Polygon\n",
    "from folium.raster_layers import ImageOverlay\n",
    "import io\n",
    "import base64\n",
    "\n",
    "from mpl_toolkits.basemap import Basemap\n",
    "# plt.style.use('seaborn-v0_8')"
   ]
  },
  {
   "cell_type": "code",
   "execution_count": 3,
   "id": "c34a8e94-c1b7-4c3f-86c8-e7273e27b95c",
   "metadata": {},
   "outputs": [],
   "source": [
    "\"\"\" Load 4D ERA5 data as xarray.core.dataset.Dataset from $DATA\n",
    "\n",
    "Some important properties\n",
    "    Latitude \n",
    "        Range [44.23337936401367, 46.7599983215332] degrees North\n",
    "    Longitude\n",
    "        Range [-75.53164672851562, -71.8677978515625] degrees East\n",
    "    Rotated Pole\n",
    "        longitude, latitude [-73.57501220703125,45.5]\n",
    "    Time scales:\n",
    "        tas  - hourly\n",
    "        tmax - daily\n",
    "        q    - 3 hourly \n",
    "\"\"\"\n",
    "# without TEB\n",
    "tas_n = xr.open_zarr('/runoff/gulley/St_Laurent/StLaurent_1km_SL2.5_ERA5_advHU/tas.zarr')      \n",
    "tmax_n= xr.open_zarr('/runoff/gulley/St_Laurent/StLaurent_1km_SL2.5_ERA5_advHU/tasmax.zarr')\n",
    "qn = xr.open_zarr('/runoff/gulley/St_Laurent/StLaurent_1km_SL2.5_ERA5_advHU/huss.zarr')\n",
    "\n",
    "# with TEB\n",
    "tas_t = xr.open_zarr('/runoff/gulley/St_Laurent/StLaurent_1km_SL2.5_ERA5_advHU_TEB/tas.zarr')\n",
    "tmax_t= xr.open_zarr('/runoff/gulley/St_Laurent/StLaurent_1km_SL2.5_ERA5_advHU_TEB/tasmax.zarr')\n",
    "qt = xr.open_zarr('/runoff/gulley/St_Laurent/StLaurent_1km_SL2.5_ERA5_advHU_TEB/huss.zarr')\n",
    "\n",
    "# static fields\n",
    "static_fields = xr.open_mfdataset('/runoff/gulley/St_Laurent/StLaurent_1km_SL2.5_ERA5_advHU_step0.nc')\n",
    "urban_fraction_2d = static_fields['furban'].isel(lev=5)\n",
    "lons = static_fields.lon.values\n",
    "lats = static_fields.lat.values"
   ]
  },
  {
   "cell_type": "code",
   "execution_count": 4,
   "id": "ef6f9ab5-cab6-4825-8457-f1249e9b2cd9",
   "metadata": {
    "jupyter": {
     "source_hidden": true
    }
   },
   "outputs": [],
   "source": [
    "# Load ECCC_AHCCD_gen3_temperature data for stations in Canada\n",
    "pavics = xr.open_dataset(\"https://pavics.ouranos.ca/twitcher/ows/proxy/thredds/dodsC/datasets/station_obs/ECCC_AHCCD_gen3_temperature.ncml\")\n",
    "\n",
    "# Restrict the selection by masking for only stations within the domain\n",
    "station_is_in_domain = (\n",
    "    (pavics.lat>44.23337936401367)    & \n",
    "    (pavics.lat <46.7599983215332)    & \n",
    "    (pavics.lon > -75.53164672851562) & \n",
    "    (pavics.lon < -71.8677978515625)\n",
    ")\n",
    "\n",
    "# Set the stations into a pandas dataframe\n",
    "stations = pavics.sel(station=station_is_in_domain).set_coords(['lat', 'lon', 'station_name'])"
   ]
  },
  {
   "cell_type": "code",
   "execution_count": 5,
   "id": "18c8f532-3864-499a-acef-7dca9f03dcc2",
   "metadata": {
    "jupyter": {
     "source_hidden": true
    }
   },
   "outputs": [],
   "source": [
    "# Map formatting properties for field projection\n",
    "# bbox = [[44.23337936401367, -75.53164672851562], [46.7599983215332, -71.8677978515625]]\n",
    "\n",
    "lat_min = min(lats.flatten())\n",
    "lat_max = max(lats.flatten())\n",
    "lon_min = min(lons.flatten())\n",
    "lon_max = max(lons.flatten())\n",
    "\n",
    "centre_lat = (lat_min + lat_max) / 2\n",
    "centre_lon = (lon_min + lon_max) / 2\n",
    "bounds = [[lat_min, lon_min], [lat_max, lon_max]]\n",
    "extent = [lon_min, lon_max, lat_min, lat_max]\n",
    "\n",
    "# To project station data onto the map\n",
    "station_locations = stations[['lat', 'lon', 'station_name']].to_dataframe().reset_index()\n",
    "geojson_stations = gpd.GeoDataFrame(\n",
    "    station_locations, geometry=gpd.points_from_xy(station_locations['lon'], station_locations['lat'])\n",
    ").to_json()"
   ]
  },
  {
   "cell_type": "code",
   "execution_count": 6,
   "id": "57cfef8c-915f-4d0f-94b8-8079d8612025",
   "metadata": {
    "jupyter": {
     "source_hidden": true
    }
   },
   "outputs": [],
   "source": [
    "def draw_map(field=None,cmap='bwr',vmin=243.15,vmax=313.15,levels=10):\n",
    "    \"\"\"\n",
    "    Creates a map and displays the station_locations within the bounds of the simulation on it. \n",
    "    It then generates an ImageOverlay of some the static field generated.\n",
    "    Example usage:\n",
    "        > f = tmax_n['tasmax'].sel(time='1999-03-08')\n",
    "        > m = draw_map(f)\n",
    "        > display(m)\n",
    "\n",
    "    parameters:\n",
    "        field - xarray.core.dataarray.DataArray\n",
    "            The 2D temperature or humidity data \n",
    "    returns:\n",
    "        m - folium.folium.Map\n",
    "    \"\"\"\n",
    "    \n",
    "    # Initialize the map\n",
    "    m = folium.Map(location=[centre_lat, centre_lon], zoom_start=8)\n",
    "\n",
    "    folium.TileLayer(\"cartodb positron\").add_to(m)\n",
    "\n",
    "    # Add station markers\n",
    "    folium.GeoJson(\n",
    "        geojson_stations,\n",
    "        popup=folium.GeoJsonPopup(fields=['station_name'], aliases=['Station Name']),\n",
    "        marker=folium.CircleMarker(radius=3, color='grey', fill=True, fill_color='grey', fill_opacity=0.7)\n",
    "    ).add_to(m)\n",
    "\n",
    "    # Overlay field data\n",
    "    if field is not None:\n",
    "        # Create an image to store the field data\n",
    "        image_buffer = io.BytesIO()\n",
    "\n",
    "        # Matplot seems to render the image well using cells\n",
    "        fig, ax = plt.subplots(figsize=(6, 6), dpi=200)\n",
    "        \n",
    "        bm = Basemap(projection='merc', \n",
    "            llcrnrlat=lat_min, \n",
    "            urcrnrlat=lat_max, \n",
    "            llcrnrlon=lon_min, \n",
    "            urcrnrlon=lon_max, \n",
    "            resolution='i', ax=ax)\n",
    "\n",
    "        x, y = bm(lons, lats)\n",
    "        bm.contourf(x, y, field.values, cmap=cmap,vmin= vmin,vmax= vmax, levels=levels)\n",
    "\n",
    "        ax.axis(\"off\")  # Remove axes for clean image\n",
    "\n",
    "        # Save image to buffer\n",
    "        plt.savefig(image_buffer, format=\"png\", bbox_inches=\"tight\", pad_inches=0, transparent=True)\n",
    "        plt.close(fig)\n",
    "        image_buffer.seek(0)\n",
    "        image_base64 = base64.b64encode(image_buffer.read()).decode()\n",
    "        image_uri = f\"data:image/png;base64,{image_base64}\"\n",
    "\n",
    "        # Read image from buffer and project onto map\n",
    "        ImageOverlay(\n",
    "            image=image_uri,\n",
    "            bounds=bounds,\n",
    "            opacity=0.6,\n",
    "            interactive=True,\n",
    "            cross_origin=False,\n",
    "            pixelated=True\n",
    "        ).add_to(m)\n",
    "    m.fit_bounds(bounds)\n",
    "    return m"
   ]
  },
  {
   "cell_type": "code",
   "execution_count": 8,
   "id": "a72198ca-548f-43a4-8153-519e566b7d1b",
   "metadata": {},
   "outputs": [],
   "source": [
    "f = tmax_n['tasmax'].sel(time='1999-03-31')\n",
    "m = draw_map(f)\n",
    "m.save('/home/gulley/urban_heat_waves/tasmax_1999-03-31.html')\n",
    "# display(m)"
   ]
  },
  {
   "cell_type": "code",
   "execution_count": null,
   "id": "f54c6012-94c3-446a-8858-f9c2f0fc3583",
   "metadata": {},
   "outputs": [],
   "source": []
  }
 ],
 "metadata": {
  "kernelspec": {
   "display_name": "Python 3 (ipykernel)",
   "language": "python",
   "name": "python3"
  },
  "language_info": {
   "codemirror_mode": {
    "name": "ipython",
    "version": 3
   },
   "file_extension": ".py",
   "mimetype": "text/x-python",
   "name": "python",
   "nbconvert_exporter": "python",
   "pygments_lexer": "ipython3",
   "version": "3.12.8"
  }
 },
 "nbformat": 4,
 "nbformat_minor": 5
}
